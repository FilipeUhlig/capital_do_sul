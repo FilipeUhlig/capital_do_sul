{
 "cells": [
  {
   "cell_type": "markdown",
   "id": "78b20f80",
   "metadata": {},
   "source": [
    "### leia um texto e informe se ele ´e o nome da capital de um estado da regi˜ao sul do Brasil."
   ]
  },
  {
   "cell_type": "code",
   "execution_count": 107,
   "id": "fe76594e",
   "metadata": {},
   "outputs": [],
   "source": [
    "cap = ['porto alegre', 'curitiba', 'florianópolis']\n",
    "x1 = 0"
   ]
  },
  {
   "cell_type": "code",
   "execution_count": 108,
   "id": "a21338a7",
   "metadata": {},
   "outputs": [
    {
     "name": "stdout",
     "output_type": "stream",
     "text": [
      "Qual a cidade?Porto Alegre\n"
     ]
    }
   ],
   "source": [
    "x1 = input(\"Qual a cidade?\")"
   ]
  },
  {
   "cell_type": "code",
   "execution_count": 109,
   "id": "56e0588a",
   "metadata": {},
   "outputs": [],
   "source": [
    "x2 = x1.lower()"
   ]
  },
  {
   "cell_type": "code",
   "execution_count": 110,
   "id": "a1b2a853",
   "metadata": {},
   "outputs": [
    {
     "name": "stdout",
     "output_type": "stream",
     "text": [
      "Porto alegre é capital de um estado da região sul do Brasi.\n"
     ]
    }
   ],
   "source": [
    "if x2 in cap:\n",
    "    x1 = x1.capitalize()\n",
    "    print(f\"{x1} é capital de um estado da região sul do Brasi.\")\n",
    "\n",
    "else:\n",
    "    x1 = x1.capitalize()\n",
    "    print(f\"{x1} não é capital de um estado da região sul do Brasi.\")"
   ]
  },
  {
   "cell_type": "code",
   "execution_count": null,
   "id": "574833c8",
   "metadata": {},
   "outputs": [],
   "source": []
  }
 ],
 "metadata": {
  "kernelspec": {
   "display_name": "Python 3 (ipykernel)",
   "language": "python",
   "name": "python3"
  },
  "language_info": {
   "codemirror_mode": {
    "name": "ipython",
    "version": 3
   },
   "file_extension": ".py",
   "mimetype": "text/x-python",
   "name": "python",
   "nbconvert_exporter": "python",
   "pygments_lexer": "ipython3",
   "version": "3.10.9"
  }
 },
 "nbformat": 4,
 "nbformat_minor": 5
}
